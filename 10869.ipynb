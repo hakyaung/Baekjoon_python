{
 "cells": [
  {
   "cell_type": "code",
   "execution_count": 10,
   "id": "316bcb02",
   "metadata": {},
   "outputs": [
    {
     "name": "stdout",
     "output_type": "stream",
     "text": [
      "7 3\n",
      "10\n",
      "4\n",
      "21\n",
      "2\n",
      "1\n"
     ]
    }
   ],
   "source": [
    "a = 0\n",
    "b = 0\n",
    "p = 0\n",
    "m = 0\n",
    "mm = 0\n",
    "d = 0\n",
    "r = 0\n",
    "\n",
    "a, b = map(int, input().split())\n",
    "\n",
    "p = a + b\n",
    "m = a - b\n",
    "mm = a * b\n",
    "d = a / b\n",
    "r = a % b\n",
    "\n",
    "print(p)\n",
    "print(m)\n",
    "print(mm)\n",
    "print(int(d))\n",
    "print(r)"
   ]
  }
 ],
 "metadata": {
  "kernelspec": {
   "display_name": "Python 3 (ipykernel)",
   "language": "python",
   "name": "python3"
  },
  "language_info": {
   "codemirror_mode": {
    "name": "ipython",
    "version": 3
   },
   "file_extension": ".py",
   "mimetype": "text/x-python",
   "name": "python",
   "nbconvert_exporter": "python",
   "pygments_lexer": "ipython3",
   "version": "3.9.13"
  }
 },
 "nbformat": 4,
 "nbformat_minor": 5
}
