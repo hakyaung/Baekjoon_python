{
 "cells": [
  {
   "cell_type": "code",
   "execution_count": 19,
   "id": "64579bd9",
   "metadata": {},
   "outputs": [
    {
     "name": "stdout",
     "output_type": "stream",
     "text": [
      "1 2 100\n",
      "10000\n"
     ]
    }
   ],
   "source": [
    "d1,d2,d3 = map(int,input().split())\n",
    "\n",
    "if d1 == d2 == d3:\n",
    "    r = 10000 + d1 * 1000\n",
    "elif (d1 == d2) or (d1 == d3) or (d2 == d3):\n",
    "    if d1 == d2:\n",
    "        r = 1000 + d1 * 100\n",
    "    elif d1 == d3:\n",
    "        r = 1000 + d1 * 100\n",
    "    elif d2 == d3:\n",
    "        r = 1000 + d2 * 100\n",
    "else:\n",
    "    max = 0\n",
    "    if d1 >= max:\n",
    "        max = d1\n",
    "    if d2 >= max:\n",
    "        max = d2\n",
    "    if d3 >= max:\n",
    "        max = d3\n",
    "    r = 0\n",
    "    r = max * 100\n",
    "\n",
    "print(r)"
   ]
  }
 ],
 "metadata": {
  "kernelspec": {
   "display_name": "Python 3 (ipykernel)",
   "language": "python",
   "name": "python3"
  },
  "language_info": {
   "codemirror_mode": {
    "name": "ipython",
    "version": 3
   },
   "file_extension": ".py",
   "mimetype": "text/x-python",
   "name": "python",
   "nbconvert_exporter": "python",
   "pygments_lexer": "ipython3",
   "version": "3.9.13"
  }
 },
 "nbformat": 4,
 "nbformat_minor": 5
}
