{
 "cells": [
  {
   "cell_type": "code",
   "execution_count": 44,
   "id": "7a67863a",
   "metadata": {},
   "outputs": [
    {
     "name": "stdout",
     "output_type": "stream",
     "text": [
      "5 4 \n",
      "1 2\n",
      "3 4\n",
      "1 4\n",
      "2 2\n",
      "3 4 1 2 5 "
     ]
    }
   ],
   "source": [
    "n,m = map(int,input().split())\n",
    "basket = [n+1 for n in range(n)]\n",
    "\n",
    "tem = []\n",
    "\n",
    "for x in range(m):\n",
    "    i,j = map(int,input().split())\n",
    "    tem = basket[i-1:j]\n",
    "    del basket[i-1:j]\n",
    "    tem.reverse()\n",
    "    for y in range(j-i+1):\n",
    "        basket.insert(i-1+y,tem[y])\n",
    "        \n",
    "for x in range(n):\n",
    "    print(basket[x],end=' ')"
   ]
  }
 ],
 "metadata": {
  "kernelspec": {
   "display_name": "Python 3 (ipykernel)",
   "language": "python",
   "name": "python3"
  },
  "language_info": {
   "codemirror_mode": {
    "name": "ipython",
    "version": 3
   },
   "file_extension": ".py",
   "mimetype": "text/x-python",
   "name": "python",
   "nbconvert_exporter": "python",
   "pygments_lexer": "ipython3",
   "version": "3.9.13"
  }
 },
 "nbformat": 4,
 "nbformat_minor": 5
}
