{
 "cells": [
  {
   "cell_type": "code",
   "execution_count": 16,
   "id": "8e8c2f94",
   "metadata": {},
   "outputs": [
    {
     "name": "stdout",
     "output_type": "stream",
     "text": [
      "1900\n",
      "0\n"
     ]
    }
   ],
   "source": [
    "year = int(input())\n",
    "\n",
    "if year % 4 == 0:\n",
    "    if year % 100 != 0:\n",
    "        print(\"1\")\n",
    "    elif year % 400 == 0:\n",
    "        print(\"1\")\n",
    "    else:\n",
    "        print(\"0\")\n",
    "else:\n",
    "    print(\"0\")"
   ]
  }
 ],
 "metadata": {
  "kernelspec": {
   "display_name": "Python 3 (ipykernel)",
   "language": "python",
   "name": "python3"
  },
  "language_info": {
   "codemirror_mode": {
    "name": "ipython",
    "version": 3
   },
   "file_extension": ".py",
   "mimetype": "text/x-python",
   "name": "python",
   "nbconvert_exporter": "python",
   "pygments_lexer": "ipython3",
   "version": "3.9.13"
  }
 },
 "nbformat": 4,
 "nbformat_minor": 5
}
