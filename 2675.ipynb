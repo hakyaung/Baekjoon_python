{
 "cells": [
  {
   "cell_type": "code",
   "execution_count": 22,
   "id": "2cfad2cd",
   "metadata": {},
   "outputs": [
    {
     "name": "stdout",
     "output_type": "stream",
     "text": [
      "2\n",
      "3 ABC\n",
      "5 /HTP\n",
      "AAABBBCCC\n",
      "/////HHHHHTTTTTPPPPP\n"
     ]
    }
   ],
   "source": [
    "t = int(input())\n",
    "r = [0 for i in range(t)]\n",
    "s = [0 for i in range(t)]\n",
    "\n",
    "for i in range(t):\n",
    "    r[i],s[i] = map(str,input().split())\n",
    "    \n",
    "for i in range(t):\n",
    "    for x in range(len(s[i])):\n",
    "        for y in range(int(r[i])):\n",
    "            print(s[i][x],end='')\n",
    "    print('')"
   ]
  }
 ],
 "metadata": {
  "kernelspec": {
   "display_name": "Python 3 (ipykernel)",
   "language": "python",
   "name": "python3"
  },
  "language_info": {
   "codemirror_mode": {
    "name": "ipython",
    "version": 3
   },
   "file_extension": ".py",
   "mimetype": "text/x-python",
   "name": "python",
   "nbconvert_exporter": "python",
   "pygments_lexer": "ipython3",
   "version": "3.9.13"
  }
 },
 "nbformat": 4,
 "nbformat_minor": 5
}
