{
 "cells": [
  {
   "cell_type": "code",
   "execution_count": 10,
   "id": "874e1a0a",
   "metadata": {},
   "outputs": [
    {
     "name": "stdout",
     "output_type": "stream",
     "text": [
      "89\n",
      "B\n"
     ]
    }
   ],
   "source": [
    "sung = int(input())\n",
    "\n",
    "if (sung <= 100) and (sung >= 90):\n",
    "    print(\"A\")\n",
    "elif (sung <= 89) and (sung >= 80):\n",
    "    print(\"B\")\n",
    "elif (sung <= 79) and (sung >= 70):\n",
    "    print(\"C\")\n",
    "elif (sung <= 69) and (sung >= 60):\n",
    "    print(\"D\")\n",
    "else:\n",
    "    print(\"F\")"
   ]
  }
 ],
 "metadata": {
  "kernelspec": {
   "display_name": "Python 3 (ipykernel)",
   "language": "python",
   "name": "python3"
  },
  "language_info": {
   "codemirror_mode": {
    "name": "ipython",
    "version": 3
   },
   "file_extension": ".py",
   "mimetype": "text/x-python",
   "name": "python",
   "nbconvert_exporter": "python",
   "pygments_lexer": "ipython3",
   "version": "3.9.13"
  }
 },
 "nbformat": 4,
 "nbformat_minor": 5
}
