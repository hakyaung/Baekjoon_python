{
 "cells": [
  {
   "cell_type": "code",
   "execution_count": 3,
   "id": "baa0d655",
   "metadata": {},
   "outputs": [
    {
     "name": "stdout",
     "output_type": "stream",
     "text": [
      "3\n",
      "ACDKJFOWIEGHE\n",
      "O\n",
      "AB\n",
      "AE\n",
      "OO\n",
      "AB\n"
     ]
    }
   ],
   "source": [
    "t = int(input())\n",
    "first_str = [0 for i in range(t)]\n",
    "last_str = [0 for i in range(t)]\n",
    "\n",
    "for i in range(t):\n",
    "    str = input()\n",
    "    first_str[i] = str[0]\n",
    "    last_str[i] = str[-1:]\n",
    "    \n",
    "for i in range(t):\n",
    "    print(first_str[i] + last_str[i])"
   ]
  }
 ],
 "metadata": {
  "kernelspec": {
   "display_name": "Python 3 (ipykernel)",
   "language": "python",
   "name": "python3"
  },
  "language_info": {
   "codemirror_mode": {
    "name": "ipython",
    "version": 3
   },
   "file_extension": ".py",
   "mimetype": "text/x-python",
   "name": "python",
   "nbconvert_exporter": "python",
   "pygments_lexer": "ipython3",
   "version": "3.9.13"
  }
 },
 "nbformat": 4,
 "nbformat_minor": 5
}
