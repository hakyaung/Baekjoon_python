{
 "cells": [
  {
   "cell_type": "code",
   "execution_count": 9,
   "id": "fea40ef6",
   "metadata": {},
   "outputs": [
    {
     "name": "stdout",
     "output_type": "stream",
     "text": [
      "23 48\n",
      "25\n",
      "0 13\n"
     ]
    }
   ],
   "source": [
    "h,m = map(int,input().split())\n",
    "n_h = int(input())\n",
    "\n",
    "if (m + n_h) < 60:\n",
    "    m = m + n_h\n",
    "    print(h,m)\n",
    "else:\n",
    "    for i in range(n_h):\n",
    "        m = m + 1\n",
    "        if m > 59:\n",
    "            h = h + 1\n",
    "            m = 0\n",
    "    if h < 24:\n",
    "        print(h,m)\n",
    "    else:\n",
    "        h = h - 24\n",
    "        print(h,m)"
   ]
  }
 ],
 "metadata": {
  "kernelspec": {
   "display_name": "Python 3 (ipykernel)",
   "language": "python",
   "name": "python3"
  },
  "language_info": {
   "codemirror_mode": {
    "name": "ipython",
    "version": 3
   },
   "file_extension": ".py",
   "mimetype": "text/x-python",
   "name": "python",
   "nbconvert_exporter": "python",
   "pygments_lexer": "ipython3",
   "version": "3.9.13"
  }
 },
 "nbformat": 4,
 "nbformat_minor": 5
}
