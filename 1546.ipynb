{
 "cells": [
  {
   "cell_type": "code",
   "execution_count": 8,
   "id": "5104ad34",
   "metadata": {},
   "outputs": [
    {
     "name": "stdout",
     "output_type": "stream",
     "text": [
      "3\n",
      "10 20 30\n",
      "66.66666666666667\n"
     ]
    }
   ],
   "source": [
    "n = int(input())\n",
    "sung = [0 for x in range(n)]\n",
    "m = 0\n",
    "sum = 0\n",
    "ave = 0\n",
    "\n",
    "sung = list(map(int,input().split()))\n",
    "\n",
    "for i in range(n):\n",
    "    if m <= sung[i]:\n",
    "        m = sung[i]\n",
    "    \n",
    "for i in range(n):\n",
    "    sum = sum + (sung[i] / m * 100)\n",
    "\n",
    "ave = sum / n\n",
    "\n",
    "print(ave)"
   ]
  }
 ],
 "metadata": {
  "kernelspec": {
   "display_name": "Python 3 (ipykernel)",
   "language": "python",
   "name": "python3"
  },
  "language_info": {
   "codemirror_mode": {
    "name": "ipython",
    "version": 3
   },
   "file_extension": ".py",
   "mimetype": "text/x-python",
   "name": "python",
   "nbconvert_exporter": "python",
   "pygments_lexer": "ipython3",
   "version": "3.9.13"
  }
 },
 "nbformat": 4,
 "nbformat_minor": 5
}
