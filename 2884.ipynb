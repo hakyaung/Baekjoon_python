{
 "cells": [
  {
   "cell_type": "code",
   "execution_count": 13,
   "id": "f7f7816a",
   "metadata": {},
   "outputs": [
    {
     "name": "stdout",
     "output_type": "stream",
     "text": [
      "23 40\n",
      "22 55\n"
     ]
    }
   ],
   "source": [
    "h,s = map(int, input().split())\n",
    "\n",
    "if (s - 45) >= 0:\n",
    "    s = s - 45\n",
    "    print(h,s)\n",
    "elif (s - 45) < 0:\n",
    "    if (h - 1) >= 0:\n",
    "        h = h - 1\n",
    "        s = s - 45\n",
    "        s = s + 60\n",
    "        print(h,s)\n",
    "    elif (h - 1) < 0:\n",
    "        h = h - 1\n",
    "        h = h + 24\n",
    "        s = s - 45\n",
    "        s = s + 60\n",
    "        print(h,s)"
   ]
  }
 ],
 "metadata": {
  "kernelspec": {
   "display_name": "Python 3 (ipykernel)",
   "language": "python",
   "name": "python3"
  },
  "language_info": {
   "codemirror_mode": {
    "name": "ipython",
    "version": 3
   },
   "file_extension": ".py",
   "mimetype": "text/x-python",
   "name": "python",
   "nbconvert_exporter": "python",
   "pygments_lexer": "ipython3",
   "version": "3.9.13"
  }
 },
 "nbformat": 4,
 "nbformat_minor": 5
}
