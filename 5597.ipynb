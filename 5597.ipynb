{
 "cells": [
  {
   "cell_type": "code",
   "execution_count": 25,
   "id": "ec401228",
   "metadata": {
    "scrolled": true
   },
   "outputs": [
    {
     "name": "stdout",
     "output_type": "stream",
     "text": [
      "9\n",
      "30\n",
      "6\n",
      "12\n",
      "10\n",
      "20\n",
      "21\n",
      "11\n",
      "7\n",
      "5\n",
      "28\n",
      "4\n",
      "18\n",
      "29\n",
      "17\n",
      "19\n",
      "27\n",
      "13\n",
      "16\n",
      "26\n",
      "14\n",
      "23\n",
      "22\n",
      "15\n",
      "3\n",
      "1\n",
      "24\n",
      "25\n",
      "8\n",
      "2\n"
     ]
    }
   ],
   "source": [
    "stu = [0 for i in range(28)]\n",
    "stan = [0 for i in range(30)]\n",
    "\n",
    "for i in range(30):\n",
    "    stan[i] = i+1\n",
    "\n",
    "for i in range(28):\n",
    "    stu[i] = int(input())\n",
    "\n",
    "stu.sort()\n",
    "\n",
    "s1 = set(stu)\n",
    "s2 = set(stan)\n",
    "\n",
    "a = s2.difference(s1) # s2 - s1 과 동일\n",
    "b = list(a)\n",
    "b.sort()\n",
    "\n",
    "for i in range(len(b)):\n",
    "    print(b[i])"
   ]
  }
 ],
 "metadata": {
  "kernelspec": {
   "display_name": "Python 3 (ipykernel)",
   "language": "python",
   "name": "python3"
  },
  "language_info": {
   "codemirror_mode": {
    "name": "ipython",
    "version": 3
   },
   "file_extension": ".py",
   "mimetype": "text/x-python",
   "name": "python",
   "nbconvert_exporter": "python",
   "pygments_lexer": "ipython3",
   "version": "3.9.13"
  }
 },
 "nbformat": 4,
 "nbformat_minor": 5
}
