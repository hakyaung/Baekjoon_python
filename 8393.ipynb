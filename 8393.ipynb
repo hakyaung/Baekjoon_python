{
 "cells": [
  {
   "cell_type": "code",
   "execution_count": 3,
   "id": "1871c5c3",
   "metadata": {},
   "outputs": [
    {
     "name": "stdout",
     "output_type": "stream",
     "text": [
      "10\n",
      "55\n"
     ]
    }
   ],
   "source": [
    "n = int(input())\n",
    "hap = 0\n",
    "\n",
    "for i in range(n):\n",
    "    hap = hap + (i + 1)\n",
    "    \n",
    "print(hap)"
   ]
  }
 ],
 "metadata": {
  "kernelspec": {
   "display_name": "Python 3 (ipykernel)",
   "language": "python",
   "name": "python3"
  },
  "language_info": {
   "codemirror_mode": {
    "name": "ipython",
    "version": 3
   },
   "file_extension": ".py",
   "mimetype": "text/x-python",
   "name": "python",
   "nbconvert_exporter": "python",
   "pygments_lexer": "ipython3",
   "version": "3.9.13"
  }
 },
 "nbformat": 4,
 "nbformat_minor": 5
}
