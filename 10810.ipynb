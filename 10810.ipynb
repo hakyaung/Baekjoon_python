{
 "cells": [
  {
   "cell_type": "code",
   "execution_count": 9,
   "id": "9475c813",
   "metadata": {},
   "outputs": [
    {
     "name": "stdout",
     "output_type": "stream",
     "text": [
      "5 4\n",
      "1 2 3\n",
      "3 4 4\n",
      "1 4 1\n",
      "2 2 2\n",
      "1 2 1 1 0 "
     ]
    }
   ],
   "source": [
    "#모르겠음\n",
    "n,m = map(int,input().split())\n",
    "\n",
    "arr = [0]*n\n",
    "\n",
    "for x in range(m):\n",
    "    i,j,k = map(int,input().split())\n",
    "    for y in range(i,j+1,1):\n",
    "        arr[y-1] = k\n",
    "        \n",
    "for x in range(n):\n",
    "    print(arr[x],'',end='')"
   ]
  }
 ],
 "metadata": {
  "kernelspec": {
   "display_name": "Python 3 (ipykernel)",
   "language": "python",
   "name": "python3"
  },
  "language_info": {
   "codemirror_mode": {
    "name": "ipython",
    "version": 3
   },
   "file_extension": ".py",
   "mimetype": "text/x-python",
   "name": "python",
   "nbconvert_exporter": "python",
   "pygments_lexer": "ipython3",
   "version": "3.9.13"
  }
 },
 "nbformat": 4,
 "nbformat_minor": 5
}
