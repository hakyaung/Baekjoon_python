{
 "cells": [
  {
   "cell_type": "code",
   "execution_count": 1,
   "id": "8e0d45a2",
   "metadata": {},
   "outputs": [
    {
     "name": "stdout",
     "output_type": "stream",
     "text": [
      "5 4\n",
      "1 2\n",
      "3 4\n",
      "1 4\n",
      "2 2\n",
      "3 1 4 2 5\n"
     ]
    }
   ],
   "source": [
    "#??\n",
    "n,m = map(int,input().split())\n",
    "\n",
    "l = [x for x in range(n+1)]\n",
    "\n",
    "for x in range(m):\n",
    "    i,j = map(int,input().split())\n",
    "    t = l[i]\n",
    "    l[i] = l[j]\n",
    "    l[j] = t\n",
    "\n",
    "print(*l[1:])"
   ]
  }
 ],
 "metadata": {
  "kernelspec": {
   "display_name": "Python 3 (ipykernel)",
   "language": "python",
   "name": "python3"
  },
  "language_info": {
   "codemirror_mode": {
    "name": "ipython",
    "version": 3
   },
   "file_extension": ".py",
   "mimetype": "text/x-python",
   "name": "python",
   "nbconvert_exporter": "python",
   "pygments_lexer": "ipython3",
   "version": "3.9.13"
  }
 },
 "nbformat": 4,
 "nbformat_minor": 5
}
