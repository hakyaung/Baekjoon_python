{
 "cells": [
  {
   "cell_type": "code",
   "execution_count": 2,
   "id": "4f1588ad",
   "metadata": {},
   "outputs": [
    {
     "name": "stdout",
     "output_type": "stream",
     "text": [
      "1 1\n",
      "2 3\n",
      "3 4\n",
      "9 8\n",
      "5 2\n",
      "\n",
      "2\n",
      "5\n",
      "7\n",
      "17\n",
      "7\n"
     ]
    }
   ],
   "source": [
    "cnt = 0\n",
    "c = []\n",
    "\n",
    "while True:\n",
    "    try:\n",
    "        a,b = map(int,input().split())\n",
    "        c.append(a+b)\n",
    "        cnt = cnt + 1\n",
    "    except:\n",
    "        break\n",
    "        \n",
    "for i in range(cnt):\n",
    "    print(c[i])"
   ]
  }
 ],
 "metadata": {
  "kernelspec": {
   "display_name": "Python 3 (ipykernel)",
   "language": "python",
   "name": "python3"
  },
  "language_info": {
   "codemirror_mode": {
    "name": "ipython",
    "version": 3
   },
   "file_extension": ".py",
   "mimetype": "text/x-python",
   "name": "python",
   "nbconvert_exporter": "python",
   "pygments_lexer": "ipython3",
   "version": "3.9.13"
  }
 },
 "nbformat": 4,
 "nbformat_minor": 5
}
